{
  "cells": [
    {
      "cell_type": "markdown",
      "metadata": {
        "id": "view-in-github",
        "colab_type": "text"
      },
      "source": [
        "<a href=\"https://colab.research.google.com/github/ozgursobe/btc_prediction/blob/main/main.ipynb\" target=\"_parent\"><img src=\"https://colab.research.google.com/assets/colab-badge.svg\" alt=\"Open In Colab\"/></a>"
      ]
    },
    {
      "cell_type": "code",
      "execution_count": null,
      "metadata": {
        "id": "n7XtyhOX7GUR",
        "collapsed": true
      },
      "outputs": [],
      "source": [
        "url = 'https://anaconda.org/conda-forge/libta-lib/0.4.0/download/linux-64/libta-lib-0.4.0-h166bdaf_1.tar.bz2'\n",
        "!curl -L $url | tar xj -C /usr/lib/x86_64-linux-gnu/ lib --strip-components=1\n",
        "url = 'https://anaconda.org/conda-forge/ta-lib/0.4.19/download/linux-64/ta-lib-0.4.19-py310hde88566_4.tar.bz2'\n",
        "!curl -L $url | tar xj -C /usr/local/lib/python3.10/dist-packages/ lib/python3.10/site-packages/talib --strip-components=3\n",
        "import talib"
      ]
    },
    {
      "cell_type": "code",
      "execution_count": null,
      "metadata": {
        "id": "fOVAY5fo8FVx",
        "collapsed": true
      },
      "outputs": [],
      "source": [
        "import talib\n",
        "import pandas as pd\n",
        "import numpy as np\n",
        "from sklearn.linear_model import LogisticRegression\n",
        "from sklearn.model_selection import train_test_split\n",
        "df = pd.read_csv(\"btc_data.csv\")\n",
        "df.head(4)\n",
        "df = df.drop([\"tradecount\", \"Volume USDT\"], axis=1)\n",
        "df.sort_values(\"Date\", inplace=True)\n",
        "df\n",
        "df[\"target\"] = (df['Close'].shift(-1) - df['Close'] > 0).astype(int)\n",
        "df\n",
        "\n",
        "EMA3 = talib.EMA(df[\"Close\"], 3)\n",
        "df[\"EMA3\"] =EMA3\n",
        "df[\"EMA3_UP\"] =(df[\"Close\"] >  EMA3).astype(int)\n",
        "\n",
        "EMA6 = talib.EMA(df[\"Close\"], 6)\n",
        "df[\"EMA6\"] = EMA6\n",
        "df[\"EMA6_UP\"] =(df[\"Close\"] >  EMA6).astype(int)\n",
        "\n",
        "EMA15 = talib.EMA(df[\"Close\"], 15)\n",
        "df[\"EMA15\"] = EMA15\n",
        "df[\"EMA15_UP\"] =(df[\"Close\"] >  EMA15).astype(int)\n",
        "\n",
        "EMA30 = talib.EMA(df[\"Close\"], 30)\n",
        "df[\"EMA30\"] = EMA30\n",
        "df[\"EMA30_UP\"] =(df[\"Close\"] >  EMA30).astype(int)\n",
        "\n",
        "MACD, MACD_SIGNAL, MACD_HIST = talib.MACD(df[\"Close\"])\n",
        "df[\"MACD\"] = MACD\n",
        "df[\"MACD_SIGNAL\"] = MACD_SIGNAL\n",
        "df[\"MACD_UP\"] = (abs(MACD) > abs(MACD_SIGNAL)).astype(int)\n",
        "df[\"MACD_HIST\"] = MACD_HIST\n",
        "\n",
        "RSI = talib.RSI(df[\"Close\"])\n",
        "STOCHRSI_FAST_K,STOCHRSI_FAST_D  = talib.STOCHRSI(df[\"Close\"])\n",
        "MOMENTUM = talib.MOM(df[\"Close\"])\n",
        "TRIMA = talib.TRIMA(df[\"Close\"])\n",
        "\n",
        "df[\"RSI\"] = RSI\n",
        "df[\"STOCHRSI_FAST_K\"] = STOCHRSI_FAST_K\n",
        "df[\"STOCHRSI_FAST_D\"] = STOCHRSI_FAST_D\n",
        "df[\"MOMENTUM\"] = MOMENTUM\n",
        "df[\"TRIMA\"] = TRIMA\n",
        "df[\"TRIMA_UP\"] = (df[\"Close\"] > TRIMA).astype(int)\n",
        "df[\"RSI_Change\"] = df[\"RSI\"].diff()\n",
        "df[\"MACD_HIST_Gradient\"] = df[\"MACD_HIST\"].diff()\n",
        "df = df[33:]\n",
        "df\n",
        "\n"
      ]
    },
    {
      "cell_type": "code",
      "execution_count": null,
      "metadata": {
        "id": "J-o8Df7m6iFY",
        "collapsed": true
      },
      "outputs": [],
      "source": [
        "from sklearn.preprocessing import StandardScaler\n",
        "\n",
        "features_to_scale = [\"MACD_HIST\",\"RSI\",\"STOCHRSI_FAST_D\",\"MOMENTUM\"]\n",
        "scaler = StandardScaler()\n",
        "\n",
        "scaled_features = scaler.fit_transform(df[features_to_scale])\n",
        "df[features_to_scale] = scaled_features\n",
        "\n",
        "df = df[34:]\n",
        "\n",
        "train = train = df[:-10000]\n",
        "test = df[-10000:]\n",
        "\n",
        "\n",
        "\n"
      ]
    },
    {
      "cell_type": "code",
      "execution_count": null,
      "metadata": {
        "id": "Sp7OFc-_VCMt",
        "collapsed": true
      },
      "outputs": [],
      "source": [
        "# Logistic Regression Model\n",
        "LOG_predictors = [\"EMA3_UP\", \"MACD_UP\", \"MACD_HIST\", \"TRIMA_UP\", \"RSI_Change\",\"MACD_HIST_Gradient\"]\n",
        "log = LogisticRegression()\n",
        "model_LOG = log.fit(train[LOG_predictors], train[\"target\"])\n",
        "\n",
        "model_LOG.score(test[LOG_predictors], test[\"target\"])"
      ]
    },
    {
      "cell_type": "code",
      "execution_count": null,
      "metadata": {
        "id": "6gKcHX41WbsR",
        "collapsed": true
      },
      "outputs": [],
      "source": [
        "# Random Forest Model\n",
        "from sklearn.ensemble import RandomForestClassifier\n",
        "FOREST_predictors = [\"EMA3_UP\",\"EMA6_UP\", \"MACD_UP\", \"MACD_HIST\", \"TRIMA_UP\",\"RSI\", \"RSI_Change\",\"MACD_HIST_Gradient\",\"MOMENTUM\", \"EMA15_UP\", \"EMA30_UP\",\"TRIMA\"]\n",
        "rforest = RandomForestClassifier(n_estimators=100,random_state=1, min_samples_split=5,max_depth=5)\n",
        "model_forest = rforest.fit(train[FOREST_predictors], train[\"target\"])\n",
        "model_forest.score(test[FOREST_predictors], test[\"target\"])\n"
      ]
    },
    {
      "cell_type": "code",
      "execution_count": null,
      "metadata": {
        "id": "Z3O9PjdLZFCZ",
        "collapsed": true
      },
      "outputs": [],
      "source": [
        "# XGBoost\n",
        "import xgboost as xgb\n",
        "XGB_predictors = [\"EMA3_UP\", \"MACD_HIST\", \"TRIMA_UP\",\"RSI\", \"RSI_Change\",\"MACD_HIST_Gradient\",\"MOMENTUM\"]\n",
        "xgb = xgb.XGBClassifier(random_state = 1, max_depth =1, learning_rate=0.1, )\n",
        "model_xgb = xgb.fit(train[XGB_predictors], train[\"target\"])\n",
        "model_xgb.score(test[XGB_predictors], test[\"target\"])\n"
      ]
    },
    {
      "cell_type": "code",
      "execution_count": null,
      "metadata": {
        "id": "m6oDwrCPbMnH",
        "collapsed": true
      },
      "outputs": [],
      "source": [
        "# Support Vector Classification Model\n",
        "from sklearn.svm import SVC\n",
        "SVM_predictors = [\"EMA3_UP\", \"EMA6_UP\", \"TRIMA_UP\", \"RSI_Change\",]\n",
        "SVM = SVC(kernel='rbf', C=1.0, gamma='scale', random_state=1)\n",
        "\n",
        "model_SVM = SVM.fit(train[SVM_predictors], train[\"target\"])\n",
        "model_SVM.score(test[SVM_predictors], test[\"target\"])\n"
      ]
    },
    {
      "cell_type": "code",
      "source": [
        "# LSTM model\n",
        "from sklearn.preprocessing import MinMaxScaler\n",
        "\n",
        "scaler = MinMaxScaler()\n",
        "\n",
        "# Normalization\n",
        "numerical_cols = [\"EMA3_UP\", \"EMA6_UP\", \"TRIMA_UP\", \"RSI_Change\",\"MACD_HIST_Gradient\", \"MACD_HIST\", \"MOMENTUM\"]\n",
        "df[numerical_cols] = scaler.fit_transform(df[numerical_cols])\n",
        "\n"
      ],
      "metadata": {
        "id": "e7jTWhZT35g2"
      },
      "execution_count": null,
      "outputs": []
    },
    {
      "cell_type": "code",
      "source": [
        "import numpy as np\n",
        "\n",
        "# Zaman penceresi boyutu (son N saat)\n",
        "sequence_length = 60\n",
        "\n",
        "# Giriş ve çıkış verilerini oluştur\n",
        "X = []\n",
        "y = []\n",
        "\n",
        "for i in range(sequence_length, len(df)):\n",
        "    X.append(df[numerical_cols].iloc[i-sequence_length:i].values)  # Son N saatin verisi\n",
        "    y.append(df['target'].iloc[i])  # Bir sonraki günün hedefi\n",
        "\n",
        "# X ve y'yi numpy array'e dönüştür\n",
        "X = np.array(X)\n",
        "y = np.array(y)\n",
        "\n",
        "# Verinin boyutlarına bakalım\n",
        "print(X.shape, y.shape)"
      ],
      "metadata": {
        "id": "Ah0DF48kRYiu"
      },
      "execution_count": null,
      "outputs": []
    },
    {
      "cell_type": "code",
      "source": [
        "from sklearn.model_selection import train_test_split\n",
        "\n",
        "# Eğitim ve test verisine ayır\n",
        "# Zaman serisi verilerinde sırayı bozmamak için shuffle=False kullanılır\n",
        "X_train, X_test, y_train, y_test = train_test_split(X, y, test_size=0.2, shuffle=False)\n",
        "\n",
        "# Boyutları kontrol edelim\n",
        "print(X_train)\n"
      ],
      "metadata": {
        "id": "J0gN2kLHRkND"
      },
      "execution_count": null,
      "outputs": []
    },
    {
      "cell_type": "code",
      "source": [
        "import tensorflow as tf\n",
        "from tensorflow.keras.models import Sequential\n",
        "from tensorflow.keras.layers import LSTM, Dense, Dropout\n",
        "from tensorflow.keras.optimizers import Adam\n",
        "\n",
        "# Modeli oluştur\n",
        "model = Sequential()\n",
        "\n",
        "# LSTM katmanı\n",
        "model.add(LSTM(units=50, return_sequences=True, input_shape=(X_train.shape[1], X_train.shape[2])))\n",
        "model.add(Dropout(0.2))  # Dropout katmanı\n",
        "\n",
        "# Bir başka LSTM katmanı\n",
        "model.add(LSTM(units=50, return_sequences=False))\n",
        "model.add(Dropout(0.2))  # Dropout katmanı\n",
        "\n",
        "# Çıkış katmanı\n",
        "model.add(Dense(units=1, activation='sigmoid'))  # Sigmoid çünkü çıktı 0 veya 1 olacak\n",
        "\n",
        "# Modeli derle\n",
        "model.compile(optimizer=Adam(learning_rate=0.001), loss='binary_crossentropy', metrics=['accuracy'])\n",
        "\n",
        "# Modelin özetini al\n",
        "model.summary()\n",
        "\n"
      ],
      "metadata": {
        "id": "aPshvZ51VcVD"
      },
      "execution_count": null,
      "outputs": []
    },
    {
      "cell_type": "code",
      "source": [
        "# Modeli eğit\n",
        "history = model.fit(X_train, y_train, epochs=5, batch_size=32, validation_data=(X_test, y_test))\n",
        "\n",
        "# Eğitimi görselleştirelim\n",
        "import matplotlib.pyplot as plt\n",
        "\n",
        "plt.plot(history.history['accuracy'], label='Eğitim Doğruluğu')\n",
        "plt.plot(history.history['val_accuracy'], label='Test Doğruluğu')\n",
        "plt.title('Model Doğruluğu')\n",
        "plt.xlabel('Epoch')\n",
        "plt.ylabel('Doğruluk')\n",
        "plt.legend()\n",
        "plt.show()\n"
      ],
      "metadata": {
        "id": "_NGiT7n-VjU7"
      },
      "execution_count": null,
      "outputs": []
    },
    {
      "cell_type": "code",
      "source": [
        "# Test doğruluğunu hesapla\n",
        "test_loss, test_accuracy = model.evaluate(X_test, y_test)\n",
        "print(f\"Test Kaybı: {test_loss}\")\n",
        "print(f\"Test Doğruluğu: {test_accuracy}\")\n"
      ],
      "metadata": {
        "id": "c80AKGpkWIa9"
      },
      "execution_count": null,
      "outputs": []
    },
    {
      "cell_type": "code",
      "source": [
        "# LSTM + CNN model\n",
        "from tensorflow.keras.models import Model\n",
        "from tensorflow.keras.layers import Input, Conv1D, LSTM, Dense, Flatten, Dropout, BatchNormalization\n",
        "\n",
        "# Giriş boyutları\n",
        "time_steps = 60  # Zaman adımları (örneğin 60 saat)\n",
        "features = 7    # Özellik sayısı (örneğin RSI, EMA vb.)\n",
        "\n",
        "# Giriş katmanı\n",
        "input_layer = Input(shape=(time_steps, features))\n",
        "\n",
        "# CNN Katmanı\n",
        "conv1 = Conv1D(filters=32, kernel_size=3, activation='relu', padding='same')(input_layer)\n",
        "conv1 = BatchNormalization()(conv1)\n",
        "conv1 = Dropout(0.2)(conv1)\n",
        "\n",
        "# LSTM Katmanı\n",
        "lstm_layer = LSTM(50, return_sequences=False)(conv1)\n",
        "\n",
        "# Yoğun Katman (Çıkış için)\n",
        "dense1 = Dense(64, activation='relu')(lstm_layer)\n",
        "dense1 = Dropout(0.3)(dense1)\n",
        "output_layer = Dense(1, activation='sigmoid')(dense1)  # Binary classification için sigmoid\n",
        "\n",
        "# Modeli birleştir\n",
        "model = Model(inputs=input_layer, outputs=output_layer)\n",
        "\n",
        "# Modeli derle\n",
        "model.compile(optimizer='adam', loss='binary_crossentropy', metrics=['accuracy'])\n",
        "\n",
        "# Model Özeti\n",
        "model.summary()\n"
      ],
      "metadata": {
        "id": "_nV5uRvlvYOY"
      },
      "execution_count": null,
      "outputs": []
    },
    {
      "cell_type": "code",
      "source": [
        "# Modeli eğit\n",
        "history = model.fit(\n",
        "    X_train, y_train,\n",
        "    epochs=5,\n",
        "    batch_size=32,\n",
        "    validation_data=(X_test, y_test),\n",
        "    verbose=1\n",
        ")\n"
      ],
      "metadata": {
        "id": "cyb6RfJ4xK2h"
      },
      "execution_count": null,
      "outputs": []
    },
    {
      "cell_type": "code",
      "source": [
        "# Doğrulama verisi performansı\n",
        "val_loss, val_accuracy = model.evaluate(X_train, y_train)\n",
        "print(f\"Doğrulama Seti - Kayıp: {val_loss}, Doğruluk: {val_accuracy}\")\n",
        "\n",
        "# Test verisi performansı\n",
        "test_loss, test_accuracy = model.evaluate(X_test, y_test)\n",
        "print(f\"Test Seti - Kayıp: {test_loss}, Doğruluk: {test_accuracy}\")\n"
      ],
      "metadata": {
        "id": "MEdVAKbs0Uvx"
      },
      "execution_count": null,
      "outputs": []
    },
    {
      "cell_type": "code",
      "source": [
        "import matplotlib.pyplot as plt\n",
        "\n",
        "# Doğruluk grafiği\n",
        "plt.plot(history.history['accuracy'], label='Eğitim Doğruluğu')\n",
        "plt.plot(history.history['val_accuracy'], label='Doğrulama Doğruluğu')\n",
        "plt.legend()\n",
        "plt.title('Model Doğruluk Grafiği')\n",
        "plt.show()\n",
        "\n",
        "# Kayıp grafiği\n",
        "plt.plot(history.history['loss'], label='Eğitim Kaybı')\n",
        "plt.plot(history.history['val_loss'], label='Doğrulama Kaybı')\n",
        "plt.legend()\n",
        "plt.title('Model Kayıp Grafiği')\n",
        "plt.show()\n"
      ],
      "metadata": {
        "id": "C_PdkDw_03sq"
      },
      "execution_count": null,
      "outputs": []
    }
  ],
  "metadata": {
    "colab": {
      "provenance": [],
      "authorship_tag": "ABX9TyOaNtzn9LDL/QRLtJYmO3kQ",
      "include_colab_link": true
    },
    "kernelspec": {
      "display_name": "Python 3",
      "name": "python3"
    },
    "language_info": {
      "name": "python"
    }
  },
  "nbformat": 4,
  "nbformat_minor": 0
}