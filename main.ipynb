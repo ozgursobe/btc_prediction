{
  "cells": [
    {
      "cell_type": "markdown",
      "metadata": {
        "id": "view-in-github",
        "colab_type": "text"
      },
      "source": [
        "<a href=\"https://colab.research.google.com/github/ozgursobe/btc_prediction/blob/main/main.ipynb\" target=\"_parent\"><img src=\"https://colab.research.google.com/assets/colab-badge.svg\" alt=\"Open In Colab\"/></a>"
      ]
    },
    {
      "cell_type": "code",
      "execution_count": 15,
      "metadata": {
        "colab": {
          "base_uri": "https://localhost:8080/"
        },
        "id": "n7XtyhOX7GUR",
        "outputId": "2a8e77a8-aae6-41e0-df34-e86016c9f0f3",
        "collapsed": true
      },
      "outputs": [
        {
          "output_type": "stream",
          "name": "stdout",
          "text": [
            "  % Total    % Received % Xferd  Average Speed   Time    Time     Time  Current\n",
            "                                 Dload  Upload   Total   Spent    Left  Speed\n",
            "100  4115    0  4115    0     0   9366      0 --:--:-- --:--:-- --:--:--  9352\n",
            "100  517k  100  517k    0     0   455k      0  0:00:01  0:00:01 --:--:--  455k\n",
            "  % Total    % Received % Xferd  Average Speed   Time    Time     Time  Current\n",
            "                                 Dload  Upload   Total   Spent    Left  Speed\n",
            "100  4075    0  4075    0     0  18215      0 --:--:-- --:--:-- --:--:-- 18191\n",
            "100  392k  100  392k    0     0   426k      0 --:--:-- --:--:-- --:--:--  426k\n"
          ]
        }
      ],
      "source": [
        "url = 'https://anaconda.org/conda-forge/libta-lib/0.4.0/download/linux-64/libta-lib-0.4.0-h166bdaf_1.tar.bz2'\n",
        "!curl -L $url | tar xj -C /usr/lib/x86_64-linux-gnu/ lib --strip-components=1\n",
        "url = 'https://anaconda.org/conda-forge/ta-lib/0.4.19/download/linux-64/ta-lib-0.4.19-py310hde88566_4.tar.bz2'\n",
        "!curl -L $url | tar xj -C /usr/local/lib/python3.10/dist-packages/ lib/python3.10/site-packages/talib --strip-components=3\n",
        "import talib"
      ]
    },
    {
      "cell_type": "code",
      "execution_count": 47,
      "metadata": {
        "colab": {
          "base_uri": "https://localhost:8080/",
          "height": 808
        },
        "id": "fOVAY5fo8FVx",
        "outputId": "1c4497c2-2f60-49fa-dfd9-9ce04a28343c",
        "collapsed": true
      },
      "outputs": [
        {
          "output_type": "execute_result",
          "data": {
            "text/plain": [
              "                      Date   Symbol      Open      High       Low     Close  \\\n",
              "53954  2017-08-18 13:00:00  BTCUSDT   4302.97   4318.16   4221.05   4293.09   \n",
              "53953  2017-08-18 14:00:00  BTCUSDT   4293.09   4293.09   4193.70   4259.40   \n",
              "53952  2017-08-18 15:00:00  BTCUSDT   4259.40   4259.40   4200.00   4236.89   \n",
              "53951  2017-08-18 16:00:00  BTCUSDT   4234.54   4283.79   4234.54   4250.34   \n",
              "53950  2017-08-18 17:00:00  BTCUSDT   4250.34   4250.34   4066.53   4193.35   \n",
              "...                    ...      ...       ...       ...       ...       ...   \n",
              "4      2023-10-19 19:00:00  BTCUSDT  28646.98  28765.76  28645.00  28750.75   \n",
              "3      2023-10-19 20:00:00  BTCUSDT  28750.75  28882.07  28684.80  28715.38   \n",
              "2      2023-10-19 21:00:00  BTCUSDT  28715.39  28739.73  28604.09  28604.09   \n",
              "1      2023-10-19 22:00:00  BTCUSDT  28604.09  28704.99  28598.60  28649.65   \n",
              "0      2023-10-19 23:00:00  BTCUSDT  28649.64  28717.82  28630.19  28713.71   \n",
              "\n",
              "        Volume BTC  target          EMA3  EMA3_UP  ...  MACD_UP  MACD_HIST  \\\n",
              "53954    46.533767       0   4312.808119        0  ...        0  12.774587   \n",
              "53953    74.368943       0   4286.104059        0  ...        0   8.059032   \n",
              "53952    39.947717       1   4261.497030        0  ...        0   3.511160   \n",
              "53951    45.038824       0   4255.918515        0  ...        0   1.593674   \n",
              "53950    62.691466       0   4224.634257        0  ...        1  -3.073566   \n",
              "...            ...     ...           ...      ...  ...      ...        ...   \n",
              "4      1039.209350       0  28683.487102        1  ...        1  33.296332   \n",
              "3      1737.147110       0  28699.433551        1  ...        1  31.213093   \n",
              "2      1118.516970       1  28651.761775        0  ...        1  20.587505   \n",
              "1       767.855180       1  28650.705888        0  ...        1  15.127626   \n",
              "0       613.284480       0  28682.207944        1  ...        1  14.337878   \n",
              "\n",
              "             RSI  STOCHRSI_FAST_K  STOCHRSI_FAST_D  MOMENTUM         TRIMA  \\\n",
              "53954  48.125539         0.000000     4.540717e+01      0.70   4320.167750   \n",
              "53953  43.983214         0.000000     2.043558e+01    -28.52   4315.214125   \n",
              "53952  41.418037         0.000000    -1.421085e-14    -76.67   4310.368708   \n",
              "53951  43.537011        17.556241     5.852080e+00    -29.12   4306.207542   \n",
              "53950  37.369133         0.000000     5.852080e+00   -106.90   4302.638750   \n",
              "...          ...              ...              ...       ...           ...   \n",
              "4      67.729901        81.852091     4.187447e+01    350.74  28349.628042   \n",
              "3      64.857358        69.919143     6.518085e+01    238.39  28365.076792   \n",
              "2      56.707789         0.000000     5.059041e+01    153.40  28381.901333   \n",
              "1      58.980171        20.616581     3.017857e+01    172.53  28399.634917   \n",
              "0      62.000393        48.018053     2.287821e+01    231.62  28418.639875   \n",
              "\n",
              "       TRIMA_UP  RSI_Change  MACD_HIST_Gradient  \n",
              "53954         0   -5.362132                 NaN  \n",
              "53953         0   -4.142325           -4.715555  \n",
              "53952         0   -2.565177           -4.547873  \n",
              "53951         0    2.118974           -1.917485  \n",
              "53950         0   -6.167879           -4.667240  \n",
              "...         ...         ...                 ...  \n",
              "4             1    4.427947            3.876387  \n",
              "3             1   -2.872544           -2.083239  \n",
              "2             1   -8.149569          -10.625588  \n",
              "1             1    2.272383           -5.459878  \n",
              "0             1    3.020221           -0.789748  \n",
              "\n",
              "[53955 rows x 28 columns]"
            ],
            "text/html": [
              "\n",
              "  <div id=\"df-bad28899-cd94-4178-9a9d-6b47ae426f28\" class=\"colab-df-container\">\n",
              "    <div>\n",
              "<style scoped>\n",
              "    .dataframe tbody tr th:only-of-type {\n",
              "        vertical-align: middle;\n",
              "    }\n",
              "\n",
              "    .dataframe tbody tr th {\n",
              "        vertical-align: top;\n",
              "    }\n",
              "\n",
              "    .dataframe thead th {\n",
              "        text-align: right;\n",
              "    }\n",
              "</style>\n",
              "<table border=\"1\" class=\"dataframe\">\n",
              "  <thead>\n",
              "    <tr style=\"text-align: right;\">\n",
              "      <th></th>\n",
              "      <th>Date</th>\n",
              "      <th>Symbol</th>\n",
              "      <th>Open</th>\n",
              "      <th>High</th>\n",
              "      <th>Low</th>\n",
              "      <th>Close</th>\n",
              "      <th>Volume BTC</th>\n",
              "      <th>target</th>\n",
              "      <th>EMA3</th>\n",
              "      <th>EMA3_UP</th>\n",
              "      <th>...</th>\n",
              "      <th>MACD_UP</th>\n",
              "      <th>MACD_HIST</th>\n",
              "      <th>RSI</th>\n",
              "      <th>STOCHRSI_FAST_K</th>\n",
              "      <th>STOCHRSI_FAST_D</th>\n",
              "      <th>MOMENTUM</th>\n",
              "      <th>TRIMA</th>\n",
              "      <th>TRIMA_UP</th>\n",
              "      <th>RSI_Change</th>\n",
              "      <th>MACD_HIST_Gradient</th>\n",
              "    </tr>\n",
              "  </thead>\n",
              "  <tbody>\n",
              "    <tr>\n",
              "      <th>53954</th>\n",
              "      <td>2017-08-18 13:00:00</td>\n",
              "      <td>BTCUSDT</td>\n",
              "      <td>4302.97</td>\n",
              "      <td>4318.16</td>\n",
              "      <td>4221.05</td>\n",
              "      <td>4293.09</td>\n",
              "      <td>46.533767</td>\n",
              "      <td>0</td>\n",
              "      <td>4312.808119</td>\n",
              "      <td>0</td>\n",
              "      <td>...</td>\n",
              "      <td>0</td>\n",
              "      <td>12.774587</td>\n",
              "      <td>48.125539</td>\n",
              "      <td>0.000000</td>\n",
              "      <td>4.540717e+01</td>\n",
              "      <td>0.70</td>\n",
              "      <td>4320.167750</td>\n",
              "      <td>0</td>\n",
              "      <td>-5.362132</td>\n",
              "      <td>NaN</td>\n",
              "    </tr>\n",
              "    <tr>\n",
              "      <th>53953</th>\n",
              "      <td>2017-08-18 14:00:00</td>\n",
              "      <td>BTCUSDT</td>\n",
              "      <td>4293.09</td>\n",
              "      <td>4293.09</td>\n",
              "      <td>4193.70</td>\n",
              "      <td>4259.40</td>\n",
              "      <td>74.368943</td>\n",
              "      <td>0</td>\n",
              "      <td>4286.104059</td>\n",
              "      <td>0</td>\n",
              "      <td>...</td>\n",
              "      <td>0</td>\n",
              "      <td>8.059032</td>\n",
              "      <td>43.983214</td>\n",
              "      <td>0.000000</td>\n",
              "      <td>2.043558e+01</td>\n",
              "      <td>-28.52</td>\n",
              "      <td>4315.214125</td>\n",
              "      <td>0</td>\n",
              "      <td>-4.142325</td>\n",
              "      <td>-4.715555</td>\n",
              "    </tr>\n",
              "    <tr>\n",
              "      <th>53952</th>\n",
              "      <td>2017-08-18 15:00:00</td>\n",
              "      <td>BTCUSDT</td>\n",
              "      <td>4259.40</td>\n",
              "      <td>4259.40</td>\n",
              "      <td>4200.00</td>\n",
              "      <td>4236.89</td>\n",
              "      <td>39.947717</td>\n",
              "      <td>1</td>\n",
              "      <td>4261.497030</td>\n",
              "      <td>0</td>\n",
              "      <td>...</td>\n",
              "      <td>0</td>\n",
              "      <td>3.511160</td>\n",
              "      <td>41.418037</td>\n",
              "      <td>0.000000</td>\n",
              "      <td>-1.421085e-14</td>\n",
              "      <td>-76.67</td>\n",
              "      <td>4310.368708</td>\n",
              "      <td>0</td>\n",
              "      <td>-2.565177</td>\n",
              "      <td>-4.547873</td>\n",
              "    </tr>\n",
              "    <tr>\n",
              "      <th>53951</th>\n",
              "      <td>2017-08-18 16:00:00</td>\n",
              "      <td>BTCUSDT</td>\n",
              "      <td>4234.54</td>\n",
              "      <td>4283.79</td>\n",
              "      <td>4234.54</td>\n",
              "      <td>4250.34</td>\n",
              "      <td>45.038824</td>\n",
              "      <td>0</td>\n",
              "      <td>4255.918515</td>\n",
              "      <td>0</td>\n",
              "      <td>...</td>\n",
              "      <td>0</td>\n",
              "      <td>1.593674</td>\n",
              "      <td>43.537011</td>\n",
              "      <td>17.556241</td>\n",
              "      <td>5.852080e+00</td>\n",
              "      <td>-29.12</td>\n",
              "      <td>4306.207542</td>\n",
              "      <td>0</td>\n",
              "      <td>2.118974</td>\n",
              "      <td>-1.917485</td>\n",
              "    </tr>\n",
              "    <tr>\n",
              "      <th>53950</th>\n",
              "      <td>2017-08-18 17:00:00</td>\n",
              "      <td>BTCUSDT</td>\n",
              "      <td>4250.34</td>\n",
              "      <td>4250.34</td>\n",
              "      <td>4066.53</td>\n",
              "      <td>4193.35</td>\n",
              "      <td>62.691466</td>\n",
              "      <td>0</td>\n",
              "      <td>4224.634257</td>\n",
              "      <td>0</td>\n",
              "      <td>...</td>\n",
              "      <td>1</td>\n",
              "      <td>-3.073566</td>\n",
              "      <td>37.369133</td>\n",
              "      <td>0.000000</td>\n",
              "      <td>5.852080e+00</td>\n",
              "      <td>-106.90</td>\n",
              "      <td>4302.638750</td>\n",
              "      <td>0</td>\n",
              "      <td>-6.167879</td>\n",
              "      <td>-4.667240</td>\n",
              "    </tr>\n",
              "    <tr>\n",
              "      <th>...</th>\n",
              "      <td>...</td>\n",
              "      <td>...</td>\n",
              "      <td>...</td>\n",
              "      <td>...</td>\n",
              "      <td>...</td>\n",
              "      <td>...</td>\n",
              "      <td>...</td>\n",
              "      <td>...</td>\n",
              "      <td>...</td>\n",
              "      <td>...</td>\n",
              "      <td>...</td>\n",
              "      <td>...</td>\n",
              "      <td>...</td>\n",
              "      <td>...</td>\n",
              "      <td>...</td>\n",
              "      <td>...</td>\n",
              "      <td>...</td>\n",
              "      <td>...</td>\n",
              "      <td>...</td>\n",
              "      <td>...</td>\n",
              "      <td>...</td>\n",
              "    </tr>\n",
              "    <tr>\n",
              "      <th>4</th>\n",
              "      <td>2023-10-19 19:00:00</td>\n",
              "      <td>BTCUSDT</td>\n",
              "      <td>28646.98</td>\n",
              "      <td>28765.76</td>\n",
              "      <td>28645.00</td>\n",
              "      <td>28750.75</td>\n",
              "      <td>1039.209350</td>\n",
              "      <td>0</td>\n",
              "      <td>28683.487102</td>\n",
              "      <td>1</td>\n",
              "      <td>...</td>\n",
              "      <td>1</td>\n",
              "      <td>33.296332</td>\n",
              "      <td>67.729901</td>\n",
              "      <td>81.852091</td>\n",
              "      <td>4.187447e+01</td>\n",
              "      <td>350.74</td>\n",
              "      <td>28349.628042</td>\n",
              "      <td>1</td>\n",
              "      <td>4.427947</td>\n",
              "      <td>3.876387</td>\n",
              "    </tr>\n",
              "    <tr>\n",
              "      <th>3</th>\n",
              "      <td>2023-10-19 20:00:00</td>\n",
              "      <td>BTCUSDT</td>\n",
              "      <td>28750.75</td>\n",
              "      <td>28882.07</td>\n",
              "      <td>28684.80</td>\n",
              "      <td>28715.38</td>\n",
              "      <td>1737.147110</td>\n",
              "      <td>0</td>\n",
              "      <td>28699.433551</td>\n",
              "      <td>1</td>\n",
              "      <td>...</td>\n",
              "      <td>1</td>\n",
              "      <td>31.213093</td>\n",
              "      <td>64.857358</td>\n",
              "      <td>69.919143</td>\n",
              "      <td>6.518085e+01</td>\n",
              "      <td>238.39</td>\n",
              "      <td>28365.076792</td>\n",
              "      <td>1</td>\n",
              "      <td>-2.872544</td>\n",
              "      <td>-2.083239</td>\n",
              "    </tr>\n",
              "    <tr>\n",
              "      <th>2</th>\n",
              "      <td>2023-10-19 21:00:00</td>\n",
              "      <td>BTCUSDT</td>\n",
              "      <td>28715.39</td>\n",
              "      <td>28739.73</td>\n",
              "      <td>28604.09</td>\n",
              "      <td>28604.09</td>\n",
              "      <td>1118.516970</td>\n",
              "      <td>1</td>\n",
              "      <td>28651.761775</td>\n",
              "      <td>0</td>\n",
              "      <td>...</td>\n",
              "      <td>1</td>\n",
              "      <td>20.587505</td>\n",
              "      <td>56.707789</td>\n",
              "      <td>0.000000</td>\n",
              "      <td>5.059041e+01</td>\n",
              "      <td>153.40</td>\n",
              "      <td>28381.901333</td>\n",
              "      <td>1</td>\n",
              "      <td>-8.149569</td>\n",
              "      <td>-10.625588</td>\n",
              "    </tr>\n",
              "    <tr>\n",
              "      <th>1</th>\n",
              "      <td>2023-10-19 22:00:00</td>\n",
              "      <td>BTCUSDT</td>\n",
              "      <td>28604.09</td>\n",
              "      <td>28704.99</td>\n",
              "      <td>28598.60</td>\n",
              "      <td>28649.65</td>\n",
              "      <td>767.855180</td>\n",
              "      <td>1</td>\n",
              "      <td>28650.705888</td>\n",
              "      <td>0</td>\n",
              "      <td>...</td>\n",
              "      <td>1</td>\n",
              "      <td>15.127626</td>\n",
              "      <td>58.980171</td>\n",
              "      <td>20.616581</td>\n",
              "      <td>3.017857e+01</td>\n",
              "      <td>172.53</td>\n",
              "      <td>28399.634917</td>\n",
              "      <td>1</td>\n",
              "      <td>2.272383</td>\n",
              "      <td>-5.459878</td>\n",
              "    </tr>\n",
              "    <tr>\n",
              "      <th>0</th>\n",
              "      <td>2023-10-19 23:00:00</td>\n",
              "      <td>BTCUSDT</td>\n",
              "      <td>28649.64</td>\n",
              "      <td>28717.82</td>\n",
              "      <td>28630.19</td>\n",
              "      <td>28713.71</td>\n",
              "      <td>613.284480</td>\n",
              "      <td>0</td>\n",
              "      <td>28682.207944</td>\n",
              "      <td>1</td>\n",
              "      <td>...</td>\n",
              "      <td>1</td>\n",
              "      <td>14.337878</td>\n",
              "      <td>62.000393</td>\n",
              "      <td>48.018053</td>\n",
              "      <td>2.287821e+01</td>\n",
              "      <td>231.62</td>\n",
              "      <td>28418.639875</td>\n",
              "      <td>1</td>\n",
              "      <td>3.020221</td>\n",
              "      <td>-0.789748</td>\n",
              "    </tr>\n",
              "  </tbody>\n",
              "</table>\n",
              "<p>53955 rows × 28 columns</p>\n",
              "</div>\n",
              "    <div class=\"colab-df-buttons\">\n",
              "\n",
              "  <div class=\"colab-df-container\">\n",
              "    <button class=\"colab-df-convert\" onclick=\"convertToInteractive('df-bad28899-cd94-4178-9a9d-6b47ae426f28')\"\n",
              "            title=\"Convert this dataframe to an interactive table.\"\n",
              "            style=\"display:none;\">\n",
              "\n",
              "  <svg xmlns=\"http://www.w3.org/2000/svg\" height=\"24px\" viewBox=\"0 -960 960 960\">\n",
              "    <path d=\"M120-120v-720h720v720H120Zm60-500h600v-160H180v160Zm220 220h160v-160H400v160Zm0 220h160v-160H400v160ZM180-400h160v-160H180v160Zm440 0h160v-160H620v160ZM180-180h160v-160H180v160Zm440 0h160v-160H620v160Z\"/>\n",
              "  </svg>\n",
              "    </button>\n",
              "\n",
              "  <style>\n",
              "    .colab-df-container {\n",
              "      display:flex;\n",
              "      gap: 12px;\n",
              "    }\n",
              "\n",
              "    .colab-df-convert {\n",
              "      background-color: #E8F0FE;\n",
              "      border: none;\n",
              "      border-radius: 50%;\n",
              "      cursor: pointer;\n",
              "      display: none;\n",
              "      fill: #1967D2;\n",
              "      height: 32px;\n",
              "      padding: 0 0 0 0;\n",
              "      width: 32px;\n",
              "    }\n",
              "\n",
              "    .colab-df-convert:hover {\n",
              "      background-color: #E2EBFA;\n",
              "      box-shadow: 0px 1px 2px rgba(60, 64, 67, 0.3), 0px 1px 3px 1px rgba(60, 64, 67, 0.15);\n",
              "      fill: #174EA6;\n",
              "    }\n",
              "\n",
              "    .colab-df-buttons div {\n",
              "      margin-bottom: 4px;\n",
              "    }\n",
              "\n",
              "    [theme=dark] .colab-df-convert {\n",
              "      background-color: #3B4455;\n",
              "      fill: #D2E3FC;\n",
              "    }\n",
              "\n",
              "    [theme=dark] .colab-df-convert:hover {\n",
              "      background-color: #434B5C;\n",
              "      box-shadow: 0px 1px 3px 1px rgba(0, 0, 0, 0.15);\n",
              "      filter: drop-shadow(0px 1px 2px rgba(0, 0, 0, 0.3));\n",
              "      fill: #FFFFFF;\n",
              "    }\n",
              "  </style>\n",
              "\n",
              "    <script>\n",
              "      const buttonEl =\n",
              "        document.querySelector('#df-bad28899-cd94-4178-9a9d-6b47ae426f28 button.colab-df-convert');\n",
              "      buttonEl.style.display =\n",
              "        google.colab.kernel.accessAllowed ? 'block' : 'none';\n",
              "\n",
              "      async function convertToInteractive(key) {\n",
              "        const element = document.querySelector('#df-bad28899-cd94-4178-9a9d-6b47ae426f28');\n",
              "        const dataTable =\n",
              "          await google.colab.kernel.invokeFunction('convertToInteractive',\n",
              "                                                    [key], {});\n",
              "        if (!dataTable) return;\n",
              "\n",
              "        const docLinkHtml = 'Like what you see? Visit the ' +\n",
              "          '<a target=\"_blank\" href=https://colab.research.google.com/notebooks/data_table.ipynb>data table notebook</a>'\n",
              "          + ' to learn more about interactive tables.';\n",
              "        element.innerHTML = '';\n",
              "        dataTable['output_type'] = 'display_data';\n",
              "        await google.colab.output.renderOutput(dataTable, element);\n",
              "        const docLink = document.createElement('div');\n",
              "        docLink.innerHTML = docLinkHtml;\n",
              "        element.appendChild(docLink);\n",
              "      }\n",
              "    </script>\n",
              "  </div>\n",
              "\n",
              "\n",
              "<div id=\"df-a73e82d1-8182-4928-b5a9-0f097a5e303d\">\n",
              "  <button class=\"colab-df-quickchart\" onclick=\"quickchart('df-a73e82d1-8182-4928-b5a9-0f097a5e303d')\"\n",
              "            title=\"Suggest charts\"\n",
              "            style=\"display:none;\">\n",
              "\n",
              "<svg xmlns=\"http://www.w3.org/2000/svg\" height=\"24px\"viewBox=\"0 0 24 24\"\n",
              "     width=\"24px\">\n",
              "    <g>\n",
              "        <path d=\"M19 3H5c-1.1 0-2 .9-2 2v14c0 1.1.9 2 2 2h14c1.1 0 2-.9 2-2V5c0-1.1-.9-2-2-2zM9 17H7v-7h2v7zm4 0h-2V7h2v10zm4 0h-2v-4h2v4z\"/>\n",
              "    </g>\n",
              "</svg>\n",
              "  </button>\n",
              "\n",
              "<style>\n",
              "  .colab-df-quickchart {\n",
              "      --bg-color: #E8F0FE;\n",
              "      --fill-color: #1967D2;\n",
              "      --hover-bg-color: #E2EBFA;\n",
              "      --hover-fill-color: #174EA6;\n",
              "      --disabled-fill-color: #AAA;\n",
              "      --disabled-bg-color: #DDD;\n",
              "  }\n",
              "\n",
              "  [theme=dark] .colab-df-quickchart {\n",
              "      --bg-color: #3B4455;\n",
              "      --fill-color: #D2E3FC;\n",
              "      --hover-bg-color: #434B5C;\n",
              "      --hover-fill-color: #FFFFFF;\n",
              "      --disabled-bg-color: #3B4455;\n",
              "      --disabled-fill-color: #666;\n",
              "  }\n",
              "\n",
              "  .colab-df-quickchart {\n",
              "    background-color: var(--bg-color);\n",
              "    border: none;\n",
              "    border-radius: 50%;\n",
              "    cursor: pointer;\n",
              "    display: none;\n",
              "    fill: var(--fill-color);\n",
              "    height: 32px;\n",
              "    padding: 0;\n",
              "    width: 32px;\n",
              "  }\n",
              "\n",
              "  .colab-df-quickchart:hover {\n",
              "    background-color: var(--hover-bg-color);\n",
              "    box-shadow: 0 1px 2px rgba(60, 64, 67, 0.3), 0 1px 3px 1px rgba(60, 64, 67, 0.15);\n",
              "    fill: var(--button-hover-fill-color);\n",
              "  }\n",
              "\n",
              "  .colab-df-quickchart-complete:disabled,\n",
              "  .colab-df-quickchart-complete:disabled:hover {\n",
              "    background-color: var(--disabled-bg-color);\n",
              "    fill: var(--disabled-fill-color);\n",
              "    box-shadow: none;\n",
              "  }\n",
              "\n",
              "  .colab-df-spinner {\n",
              "    border: 2px solid var(--fill-color);\n",
              "    border-color: transparent;\n",
              "    border-bottom-color: var(--fill-color);\n",
              "    animation:\n",
              "      spin 1s steps(1) infinite;\n",
              "  }\n",
              "\n",
              "  @keyframes spin {\n",
              "    0% {\n",
              "      border-color: transparent;\n",
              "      border-bottom-color: var(--fill-color);\n",
              "      border-left-color: var(--fill-color);\n",
              "    }\n",
              "    20% {\n",
              "      border-color: transparent;\n",
              "      border-left-color: var(--fill-color);\n",
              "      border-top-color: var(--fill-color);\n",
              "    }\n",
              "    30% {\n",
              "      border-color: transparent;\n",
              "      border-left-color: var(--fill-color);\n",
              "      border-top-color: var(--fill-color);\n",
              "      border-right-color: var(--fill-color);\n",
              "    }\n",
              "    40% {\n",
              "      border-color: transparent;\n",
              "      border-right-color: var(--fill-color);\n",
              "      border-top-color: var(--fill-color);\n",
              "    }\n",
              "    60% {\n",
              "      border-color: transparent;\n",
              "      border-right-color: var(--fill-color);\n",
              "    }\n",
              "    80% {\n",
              "      border-color: transparent;\n",
              "      border-right-color: var(--fill-color);\n",
              "      border-bottom-color: var(--fill-color);\n",
              "    }\n",
              "    90% {\n",
              "      border-color: transparent;\n",
              "      border-bottom-color: var(--fill-color);\n",
              "    }\n",
              "  }\n",
              "</style>\n",
              "\n",
              "  <script>\n",
              "    async function quickchart(key) {\n",
              "      const quickchartButtonEl =\n",
              "        document.querySelector('#' + key + ' button');\n",
              "      quickchartButtonEl.disabled = true;  // To prevent multiple clicks.\n",
              "      quickchartButtonEl.classList.add('colab-df-spinner');\n",
              "      try {\n",
              "        const charts = await google.colab.kernel.invokeFunction(\n",
              "            'suggestCharts', [key], {});\n",
              "      } catch (error) {\n",
              "        console.error('Error during call to suggestCharts:', error);\n",
              "      }\n",
              "      quickchartButtonEl.classList.remove('colab-df-spinner');\n",
              "      quickchartButtonEl.classList.add('colab-df-quickchart-complete');\n",
              "    }\n",
              "    (() => {\n",
              "      let quickchartButtonEl =\n",
              "        document.querySelector('#df-a73e82d1-8182-4928-b5a9-0f097a5e303d button');\n",
              "      quickchartButtonEl.style.display =\n",
              "        google.colab.kernel.accessAllowed ? 'block' : 'none';\n",
              "    })();\n",
              "  </script>\n",
              "</div>\n",
              "\n",
              "  <div id=\"id_10eac8fb-9c9f-45ba-96da-5d0f082c0ff6\">\n",
              "    <style>\n",
              "      .colab-df-generate {\n",
              "        background-color: #E8F0FE;\n",
              "        border: none;\n",
              "        border-radius: 50%;\n",
              "        cursor: pointer;\n",
              "        display: none;\n",
              "        fill: #1967D2;\n",
              "        height: 32px;\n",
              "        padding: 0 0 0 0;\n",
              "        width: 32px;\n",
              "      }\n",
              "\n",
              "      .colab-df-generate:hover {\n",
              "        background-color: #E2EBFA;\n",
              "        box-shadow: 0px 1px 2px rgba(60, 64, 67, 0.3), 0px 1px 3px 1px rgba(60, 64, 67, 0.15);\n",
              "        fill: #174EA6;\n",
              "      }\n",
              "\n",
              "      [theme=dark] .colab-df-generate {\n",
              "        background-color: #3B4455;\n",
              "        fill: #D2E3FC;\n",
              "      }\n",
              "\n",
              "      [theme=dark] .colab-df-generate:hover {\n",
              "        background-color: #434B5C;\n",
              "        box-shadow: 0px 1px 3px 1px rgba(0, 0, 0, 0.15);\n",
              "        filter: drop-shadow(0px 1px 2px rgba(0, 0, 0, 0.3));\n",
              "        fill: #FFFFFF;\n",
              "      }\n",
              "    </style>\n",
              "    <button class=\"colab-df-generate\" onclick=\"generateWithVariable('df')\"\n",
              "            title=\"Generate code using this dataframe.\"\n",
              "            style=\"display:none;\">\n",
              "\n",
              "  <svg xmlns=\"http://www.w3.org/2000/svg\" height=\"24px\"viewBox=\"0 0 24 24\"\n",
              "       width=\"24px\">\n",
              "    <path d=\"M7,19H8.4L18.45,9,17,7.55,7,17.6ZM5,21V16.75L18.45,3.32a2,2,0,0,1,2.83,0l1.4,1.43a1.91,1.91,0,0,1,.58,1.4,1.91,1.91,0,0,1-.58,1.4L9.25,21ZM18.45,9,17,7.55Zm-12,3A5.31,5.31,0,0,0,4.9,8.1,5.31,5.31,0,0,0,1,6.5,5.31,5.31,0,0,0,4.9,4.9,5.31,5.31,0,0,0,6.5,1,5.31,5.31,0,0,0,8.1,4.9,5.31,5.31,0,0,0,12,6.5,5.46,5.46,0,0,0,6.5,12Z\"/>\n",
              "  </svg>\n",
              "    </button>\n",
              "    <script>\n",
              "      (() => {\n",
              "      const buttonEl =\n",
              "        document.querySelector('#id_10eac8fb-9c9f-45ba-96da-5d0f082c0ff6 button.colab-df-generate');\n",
              "      buttonEl.style.display =\n",
              "        google.colab.kernel.accessAllowed ? 'block' : 'none';\n",
              "\n",
              "      buttonEl.onclick = () => {\n",
              "        google.colab.notebook.generateWithVariable('df');\n",
              "      }\n",
              "      })();\n",
              "    </script>\n",
              "  </div>\n",
              "\n",
              "    </div>\n",
              "  </div>\n"
            ],
            "application/vnd.google.colaboratory.intrinsic+json": {
              "type": "dataframe",
              "variable_name": "df"
            }
          },
          "metadata": {},
          "execution_count": 47
        }
      ],
      "source": [
        "import talib\n",
        "import pandas as pd\n",
        "import numpy as np\n",
        "from sklearn.linear_model import LogisticRegression\n",
        "from sklearn.model_selection import train_test_split\n",
        "df = pd.read_csv(\"btc_data.csv\")\n",
        "df.head(4)\n",
        "df = df.drop([\"tradecount\", \"Volume USDT\"], axis=1)\n",
        "df.sort_values(\"Date\", inplace=True)\n",
        "df\n",
        "df[\"target\"] = (df['Close'].shift(-1) - df['Close'] > 0).astype(int)\n",
        "df\n",
        "\n",
        "EMA3 = talib.EMA(df[\"Close\"], 3)\n",
        "df[\"EMA3\"] =EMA3\n",
        "df[\"EMA3_UP\"] =(df[\"Close\"] >  EMA3).astype(int)\n",
        "\n",
        "EMA6 = talib.EMA(df[\"Close\"], 6)\n",
        "df[\"EMA6\"] = EMA6\n",
        "df[\"EMA6_UP\"] =(df[\"Close\"] >  EMA6).astype(int)\n",
        "\n",
        "EMA15 = talib.EMA(df[\"Close\"], 15)\n",
        "df[\"EMA15\"] = EMA15\n",
        "df[\"EMA15_UP\"] =(df[\"Close\"] >  EMA15).astype(int)\n",
        "\n",
        "EMA30 = talib.EMA(df[\"Close\"], 30)\n",
        "df[\"EMA30\"] = EMA30\n",
        "df[\"EMA30_UP\"] =(df[\"Close\"] >  EMA30).astype(int)\n",
        "\n",
        "MACD, MACD_SIGNAL, MACD_HIST = talib.MACD(df[\"Close\"])\n",
        "df[\"MACD\"] = MACD\n",
        "df[\"MACD_SIGNAL\"] = MACD_SIGNAL\n",
        "df[\"MACD_UP\"] = (abs(MACD) > abs(MACD_SIGNAL)).astype(int)\n",
        "df[\"MACD_HIST\"] = MACD_HIST\n",
        "\n",
        "RSI = talib.RSI(df[\"Close\"])\n",
        "STOCHRSI_FAST_K,STOCHRSI_FAST_D  = talib.STOCHRSI(df[\"Close\"])\n",
        "MOMENTUM = talib.MOM(df[\"Close\"])\n",
        "TRIMA = talib.TRIMA(df[\"Close\"])\n",
        "\n",
        "df[\"RSI\"] = RSI\n",
        "df[\"STOCHRSI_FAST_K\"] = STOCHRSI_FAST_K\n",
        "df[\"STOCHRSI_FAST_D\"] = STOCHRSI_FAST_D\n",
        "df[\"MOMENTUM\"] = MOMENTUM\n",
        "df[\"TRIMA\"] = TRIMA\n",
        "df[\"TRIMA_UP\"] = (df[\"Close\"] > TRIMA).astype(int)\n",
        "df[\"RSI_Change\"] = df[\"RSI\"].diff()\n",
        "df[\"MACD_HIST_Gradient\"] = df[\"MACD_HIST\"].diff()\n",
        "df = df[33:]\n",
        "df\n",
        "\n"
      ]
    },
    {
      "cell_type": "code",
      "execution_count": 48,
      "metadata": {
        "id": "J-o8Df7m6iFY",
        "collapsed": true
      },
      "outputs": [],
      "source": [
        "from sklearn.preprocessing import StandardScaler\n",
        "\n",
        "features_to_scale = [\"MACD_HIST\",\"RSI\",\"STOCHRSI_FAST_D\",\"MOMENTUM\"]\n",
        "scaler = StandardScaler()\n",
        "\n",
        "scaled_features = scaler.fit_transform(df[features_to_scale])\n",
        "df[features_to_scale] = scaled_features\n",
        "\n",
        "df = df[34:]\n",
        "\n",
        "train = train = df[:-10000]\n",
        "test = df[-10000:]\n",
        "\n",
        "\n",
        "\n"
      ]
    },
    {
      "cell_type": "code",
      "execution_count": 49,
      "metadata": {
        "colab": {
          "base_uri": "https://localhost:8080/"
        },
        "id": "Sp7OFc-_VCMt",
        "outputId": "cff77236-b93f-472f-e1c9-4cd54b879407"
      },
      "outputs": [
        {
          "output_type": "execute_result",
          "data": {
            "text/plain": [
              "0.5537"
            ]
          },
          "metadata": {},
          "execution_count": 49
        }
      ],
      "source": [
        "# Logistic Regression Model\n",
        "LOG_predictors = [\"EMA3_UP\", \"MACD_UP\", \"MACD_HIST\", \"TRIMA_UP\", \"RSI_Change\",\"MACD_HIST_Gradient\"]\n",
        "log = LogisticRegression()\n",
        "model_LOG = log.fit(train[LOG_predictors], train[\"target\"])\n",
        "\n",
        "model_LOG.score(test[LOG_predictors], test[\"target\"])"
      ]
    },
    {
      "cell_type": "code",
      "execution_count": 50,
      "metadata": {
        "colab": {
          "base_uri": "https://localhost:8080/"
        },
        "id": "6gKcHX41WbsR",
        "outputId": "9bd75aa4-3663-4de1-b01e-efbb92836be8"
      },
      "outputs": [
        {
          "output_type": "execute_result",
          "data": {
            "text/plain": [
              "0.556"
            ]
          },
          "metadata": {},
          "execution_count": 50
        }
      ],
      "source": [
        "# Random Forest Model\n",
        "from sklearn.ensemble import RandomForestClassifier\n",
        "FOREST_predictors = [\"EMA3_UP\",\"EMA6_UP\", \"MACD_UP\", \"MACD_HIST\", \"TRIMA_UP\",\"RSI\", \"RSI_Change\",\"MACD_HIST_Gradient\",\"MOMENTUM\", \"EMA15_UP\", \"EMA30_UP\",\"TRIMA\"]\n",
        "rforest = RandomForestClassifier(n_estimators=100,random_state=1, min_samples_split=5,max_depth=5)\n",
        "model_forest = rforest.fit(train[FOREST_predictors], train[\"target\"])\n",
        "model_forest.score(test[FOREST_predictors], test[\"target\"])\n"
      ]
    },
    {
      "cell_type": "code",
      "execution_count": 51,
      "metadata": {
        "colab": {
          "base_uri": "https://localhost:8080/"
        },
        "id": "Z3O9PjdLZFCZ",
        "outputId": "081b2387-f429-4969-b321-ace65355e0c5"
      },
      "outputs": [
        {
          "output_type": "execute_result",
          "data": {
            "text/plain": [
              "0.5532"
            ]
          },
          "metadata": {},
          "execution_count": 51
        }
      ],
      "source": [
        "# XGBoost\n",
        "import xgboost as xgb\n",
        "XGB_predictors = [\"EMA3_UP\", \"MACD_HIST\", \"TRIMA_UP\",\"RSI\", \"RSI_Change\",\"MACD_HIST_Gradient\",\"MOMENTUM\"]\n",
        "xgb = xgb.XGBClassifier(random_state = 1, max_depth =1, learning_rate=0.1, )\n",
        "model_xgb = xgb.fit(train[XGB_predictors], train[\"target\"])\n",
        "model_xgb.score(test[XGB_predictors], test[\"target\"])\n"
      ]
    },
    {
      "cell_type": "code",
      "execution_count": 52,
      "metadata": {
        "id": "m6oDwrCPbMnH",
        "colab": {
          "base_uri": "https://localhost:8080/"
        },
        "outputId": "1a8b5942-43cf-4a2e-b4f3-76a3926a2ba7"
      },
      "outputs": [
        {
          "output_type": "execute_result",
          "data": {
            "text/plain": [
              "0.5549"
            ]
          },
          "metadata": {},
          "execution_count": 52
        }
      ],
      "source": [
        "# Support Vector Classification Model\n",
        "from sklearn.svm import SVC\n",
        "SVM_predictors = [\"EMA3_UP\", \"EMA6_UP\", \"TRIMA_UP\", \"RSI_Change\",]\n",
        "SVM = SVC(kernel='rbf', C=1.0, gamma='scale', random_state=1)\n",
        "\n",
        "model_SVM = SVM.fit(train[SVM_predictors], train[\"target\"])\n",
        "model_SVM.score(test[SVM_predictors], test[\"target\"])\n"
      ]
    },
    {
      "cell_type": "code",
      "source": [
        "# LSTM model\n",
        "from sklearn.preprocessing import MinMaxScaler\n",
        "\n",
        "scaler = MinMaxScaler()\n",
        "\n",
        "# Normalization\n",
        "numerical_cols = [\"EMA3_UP\", \"EMA6_UP\", \"TRIMA_UP\", \"RSI_Change\",\"MACD_HIST_Gradient\", \"MACD_HIST\", \"MOMENTUM\"]\n",
        "df[numerical_cols] = scaler.fit_transform(df[numerical_cols])\n",
        "\n"
      ],
      "metadata": {
        "colab": {
          "base_uri": "https://localhost:8080/"
        },
        "id": "e7jTWhZT35g2",
        "outputId": "9ca4c48b-e290-4c40-f42c-ab40bd9483a2"
      },
      "execution_count": 54,
      "outputs": [
        {
          "output_type": "stream",
          "name": "stderr",
          "text": [
            "<ipython-input-54-cd0dadc0f1fd>:8: SettingWithCopyWarning: \n",
            "A value is trying to be set on a copy of a slice from a DataFrame.\n",
            "Try using .loc[row_indexer,col_indexer] = value instead\n",
            "\n",
            "See the caveats in the documentation: https://pandas.pydata.org/pandas-docs/stable/user_guide/indexing.html#returning-a-view-versus-a-copy\n",
            "  df[numerical_cols] = scaler.fit_transform(df[numerical_cols])\n"
          ]
        }
      ]
    },
    {
      "cell_type": "code",
      "source": [
        "import numpy as np\n",
        "\n",
        "# Zaman penceresi boyutu (son N saat)\n",
        "sequence_length = 60\n",
        "\n",
        "# Giriş ve çıkış verilerini oluştur\n",
        "X = []\n",
        "y = []\n",
        "\n",
        "for i in range(sequence_length, len(df)):\n",
        "    X.append(df[numerical_cols].iloc[i-sequence_length:i].values)  # Son N saatin verisi\n",
        "    y.append(df['target'].iloc[i])  # Bir sonraki günün hedefi\n",
        "\n",
        "# X ve y'yi numpy array'e dönüştür\n",
        "X = np.array(X)\n",
        "y = np.array(y)\n",
        "\n",
        "# Verinin boyutlarına bakalım\n",
        "print(X.shape, y.shape)"
      ],
      "metadata": {
        "colab": {
          "base_uri": "https://localhost:8080/"
        },
        "id": "Ah0DF48kRYiu",
        "outputId": "ad38d32d-efa9-4e1b-a892-e78fdc001144"
      },
      "execution_count": 55,
      "outputs": [
        {
          "output_type": "stream",
          "name": "stdout",
          "text": [
            "(53861, 60, 7) (53861,)\n"
          ]
        }
      ]
    },
    {
      "cell_type": "code",
      "source": [
        "from sklearn.model_selection import train_test_split\n",
        "\n",
        "# Eğitim ve test verisine ayır\n",
        "# Zaman serisi verilerinde sırayı bozmamak için shuffle=False kullanılır\n",
        "X_train, X_test, y_train, y_test = train_test_split(X, y, test_size=0.2, shuffle=False)\n",
        "\n",
        "# Boyutları kontrol edelim\n",
        "print(X_train)\n"
      ],
      "metadata": {
        "colab": {
          "base_uri": "https://localhost:8080/"
        },
        "id": "J0gN2kLHRkND",
        "outputId": "4b07d566-b7d2-409a-be75-7ecb57154e9a"
      },
      "execution_count": 56,
      "outputs": [
        {
          "output_type": "stream",
          "name": "stdout",
          "text": [
            "[[[1.         1.         1.         ... 0.53487838 0.54626812 0.5986219 ]\n",
            "  [0.         0.         1.         ... 0.52449831 0.54392988 0.5941864 ]\n",
            "  [0.         0.         1.         ... 0.5249792  0.54176629 0.59943421]\n",
            "  ...\n",
            "  [1.         1.         0.         ... 0.54634002 0.522977   0.57135214]\n",
            "  [1.         1.         0.         ... 0.55781714 0.53273926 0.58200017]\n",
            "  [1.         1.         0.         ... 0.54071043 0.53628882 0.59500343]]\n",
            "\n",
            " [[0.         0.         1.         ... 0.52449831 0.54392988 0.5941864 ]\n",
            "  [0.         0.         1.         ... 0.5249792  0.54176629 0.59943421]\n",
            "  [1.         1.         1.         ... 0.53163894 0.54202134 0.60055055]\n",
            "  ...\n",
            "  [1.         1.         0.         ... 0.55781714 0.53273926 0.58200017]\n",
            "  [1.         1.         0.         ... 0.54071043 0.53628882 0.59500343]\n",
            "  [1.         1.         0.         ... 0.54052959 0.53977271 0.60383357]]\n",
            "\n",
            " [[0.         0.         1.         ... 0.5249792  0.54176629 0.59943421]\n",
            "  [1.         1.         1.         ... 0.53163894 0.54202134 0.60055055]\n",
            "  [0.         0.         1.         ... 0.52603495 0.54024116 0.59603806]\n",
            "  ...\n",
            "  [1.         1.         0.         ... 0.54071043 0.53628882 0.59500343]\n",
            "  [1.         1.         0.         ... 0.54052959 0.53977271 0.60383357]\n",
            "  [1.         1.         1.         ... 0.54589294 0.54520442 0.5973563 ]]\n",
            "\n",
            " ...\n",
            "\n",
            " [[1.         1.         0.         ... 0.5619567  0.50887599 0.56964111]\n",
            "  [0.         0.         0.         ... 0.54137016 0.51266515 0.5700017 ]\n",
            "  [0.         0.         0.         ... 0.54746114 0.5186664  0.59255471]\n",
            "  ...\n",
            "  [1.         1.         1.         ... 0.62383019 0.64507073 0.70712665]\n",
            "  [1.         1.         1.         ... 0.57098619 0.65961563 0.70773706]\n",
            "  [1.         1.         1.         ... 0.52134167 0.65613098 0.70683598]]\n",
            "\n",
            " [[0.         0.         0.         ... 0.54137016 0.51266515 0.5700017 ]\n",
            "  [0.         0.         0.         ... 0.54746114 0.5186664  0.59255471]\n",
            "  [0.         0.         0.         ... 0.53558222 0.52035353 0.59326961]\n",
            "  ...\n",
            "  [1.         1.         1.         ... 0.57098619 0.65961563 0.70773706]\n",
            "  [1.         1.         1.         ... 0.52134167 0.65613098 0.70683598]\n",
            "  [1.         1.         1.         ... 0.52932395 0.65554529 0.70870964]]\n",
            "\n",
            " [[0.         0.         0.         ... 0.54746114 0.5186664  0.59255471]\n",
            "  [0.         0.         0.         ... 0.53558222 0.52035353 0.59326961]\n",
            "  [0.         0.         0.         ... 0.53639697 0.52233657 0.59009657]\n",
            "  ...\n",
            "  [1.         1.         1.         ... 0.52134167 0.65613098 0.70683598]\n",
            "  [1.         1.         1.         ... 0.52932395 0.65554529 0.70870964]\n",
            "  [1.         1.         1.         ... 0.5180343  0.6508595  0.70769543]]]\n"
          ]
        }
      ]
    },
    {
      "cell_type": "code",
      "source": [
        "import tensorflow as tf\n",
        "from tensorflow.keras.models import Sequential\n",
        "from tensorflow.keras.layers import LSTM, Dense, Dropout\n",
        "from tensorflow.keras.optimizers import Adam\n",
        "\n",
        "# Modeli oluştur\n",
        "model = Sequential()\n",
        "\n",
        "# LSTM katmanı\n",
        "model.add(LSTM(units=50, return_sequences=True, input_shape=(X_train.shape[1], X_train.shape[2])))\n",
        "model.add(Dropout(0.2))  # Dropout katmanı\n",
        "\n",
        "# Bir başka LSTM katmanı\n",
        "model.add(LSTM(units=50, return_sequences=False))\n",
        "model.add(Dropout(0.2))  # Dropout katmanı\n",
        "\n",
        "# Çıkış katmanı\n",
        "model.add(Dense(units=1, activation='sigmoid'))  # Sigmoid çünkü çıktı 0 veya 1 olacak\n",
        "\n",
        "# Modeli derle\n",
        "model.compile(optimizer=Adam(learning_rate=0.001), loss='binary_crossentropy', metrics=['accuracy'])\n",
        "\n",
        "# Modelin özetini al\n",
        "model.summary()\n",
        "\n"
      ],
      "metadata": {
        "colab": {
          "base_uri": "https://localhost:8080/",
          "height": 353
        },
        "id": "aPshvZ51VcVD",
        "outputId": "afc38021-6b1e-49ec-8bd9-f09611fa6f07"
      },
      "execution_count": 57,
      "outputs": [
        {
          "output_type": "stream",
          "name": "stderr",
          "text": [
            "/usr/local/lib/python3.10/dist-packages/keras/src/layers/rnn/rnn.py:204: UserWarning: Do not pass an `input_shape`/`input_dim` argument to a layer. When using Sequential models, prefer using an `Input(shape)` object as the first layer in the model instead.\n",
            "  super().__init__(**kwargs)\n"
          ]
        },
        {
          "output_type": "display_data",
          "data": {
            "text/plain": [
              "\u001b[1mModel: \"sequential_5\"\u001b[0m\n"
            ],
            "text/html": [
              "<pre style=\"white-space:pre;overflow-x:auto;line-height:normal;font-family:Menlo,'DejaVu Sans Mono',consolas,'Courier New',monospace\"><span style=\"font-weight: bold\">Model: \"sequential_5\"</span>\n",
              "</pre>\n"
            ]
          },
          "metadata": {}
        },
        {
          "output_type": "display_data",
          "data": {
            "text/plain": [
              "┏━━━━━━━━━━━━━━━━━━━━━━━━━━━━━━━━━━━━━━┳━━━━━━━━━━━━━━━━━━━━━━━━━━━━━┳━━━━━━━━━━━━━━━━━┓\n",
              "┃\u001b[1m \u001b[0m\u001b[1mLayer (type)                        \u001b[0m\u001b[1m \u001b[0m┃\u001b[1m \u001b[0m\u001b[1mOutput Shape               \u001b[0m\u001b[1m \u001b[0m┃\u001b[1m \u001b[0m\u001b[1m        Param #\u001b[0m\u001b[1m \u001b[0m┃\n",
              "┡━━━━━━━━━━━━━━━━━━━━━━━━━━━━━━━━━━━━━━╇━━━━━━━━━━━━━━━━━━━━━━━━━━━━━╇━━━━━━━━━━━━━━━━━┩\n",
              "│ lstm_9 (\u001b[38;5;33mLSTM\u001b[0m)                        │ (\u001b[38;5;45mNone\u001b[0m, \u001b[38;5;34m60\u001b[0m, \u001b[38;5;34m50\u001b[0m)              │          \u001b[38;5;34m11,600\u001b[0m │\n",
              "├──────────────────────────────────────┼─────────────────────────────┼─────────────────┤\n",
              "│ dropout_11 (\u001b[38;5;33mDropout\u001b[0m)                 │ (\u001b[38;5;45mNone\u001b[0m, \u001b[38;5;34m60\u001b[0m, \u001b[38;5;34m50\u001b[0m)              │               \u001b[38;5;34m0\u001b[0m │\n",
              "├──────────────────────────────────────┼─────────────────────────────┼─────────────────┤\n",
              "│ lstm_10 (\u001b[38;5;33mLSTM\u001b[0m)                       │ (\u001b[38;5;45mNone\u001b[0m, \u001b[38;5;34m50\u001b[0m)                  │          \u001b[38;5;34m20,200\u001b[0m │\n",
              "├──────────────────────────────────────┼─────────────────────────────┼─────────────────┤\n",
              "│ dropout_12 (\u001b[38;5;33mDropout\u001b[0m)                 │ (\u001b[38;5;45mNone\u001b[0m, \u001b[38;5;34m50\u001b[0m)                  │               \u001b[38;5;34m0\u001b[0m │\n",
              "├──────────────────────────────────────┼─────────────────────────────┼─────────────────┤\n",
              "│ dense_9 (\u001b[38;5;33mDense\u001b[0m)                      │ (\u001b[38;5;45mNone\u001b[0m, \u001b[38;5;34m1\u001b[0m)                   │              \u001b[38;5;34m51\u001b[0m │\n",
              "└──────────────────────────────────────┴─────────────────────────────┴─────────────────┘\n"
            ],
            "text/html": [
              "<pre style=\"white-space:pre;overflow-x:auto;line-height:normal;font-family:Menlo,'DejaVu Sans Mono',consolas,'Courier New',monospace\">┏━━━━━━━━━━━━━━━━━━━━━━━━━━━━━━━━━━━━━━┳━━━━━━━━━━━━━━━━━━━━━━━━━━━━━┳━━━━━━━━━━━━━━━━━┓\n",
              "┃<span style=\"font-weight: bold\"> Layer (type)                         </span>┃<span style=\"font-weight: bold\"> Output Shape                </span>┃<span style=\"font-weight: bold\">         Param # </span>┃\n",
              "┡━━━━━━━━━━━━━━━━━━━━━━━━━━━━━━━━━━━━━━╇━━━━━━━━━━━━━━━━━━━━━━━━━━━━━╇━━━━━━━━━━━━━━━━━┩\n",
              "│ lstm_9 (<span style=\"color: #0087ff; text-decoration-color: #0087ff\">LSTM</span>)                        │ (<span style=\"color: #00d7ff; text-decoration-color: #00d7ff\">None</span>, <span style=\"color: #00af00; text-decoration-color: #00af00\">60</span>, <span style=\"color: #00af00; text-decoration-color: #00af00\">50</span>)              │          <span style=\"color: #00af00; text-decoration-color: #00af00\">11,600</span> │\n",
              "├──────────────────────────────────────┼─────────────────────────────┼─────────────────┤\n",
              "│ dropout_11 (<span style=\"color: #0087ff; text-decoration-color: #0087ff\">Dropout</span>)                 │ (<span style=\"color: #00d7ff; text-decoration-color: #00d7ff\">None</span>, <span style=\"color: #00af00; text-decoration-color: #00af00\">60</span>, <span style=\"color: #00af00; text-decoration-color: #00af00\">50</span>)              │               <span style=\"color: #00af00; text-decoration-color: #00af00\">0</span> │\n",
              "├──────────────────────────────────────┼─────────────────────────────┼─────────────────┤\n",
              "│ lstm_10 (<span style=\"color: #0087ff; text-decoration-color: #0087ff\">LSTM</span>)                       │ (<span style=\"color: #00d7ff; text-decoration-color: #00d7ff\">None</span>, <span style=\"color: #00af00; text-decoration-color: #00af00\">50</span>)                  │          <span style=\"color: #00af00; text-decoration-color: #00af00\">20,200</span> │\n",
              "├──────────────────────────────────────┼─────────────────────────────┼─────────────────┤\n",
              "│ dropout_12 (<span style=\"color: #0087ff; text-decoration-color: #0087ff\">Dropout</span>)                 │ (<span style=\"color: #00d7ff; text-decoration-color: #00d7ff\">None</span>, <span style=\"color: #00af00; text-decoration-color: #00af00\">50</span>)                  │               <span style=\"color: #00af00; text-decoration-color: #00af00\">0</span> │\n",
              "├──────────────────────────────────────┼─────────────────────────────┼─────────────────┤\n",
              "│ dense_9 (<span style=\"color: #0087ff; text-decoration-color: #0087ff\">Dense</span>)                      │ (<span style=\"color: #00d7ff; text-decoration-color: #00d7ff\">None</span>, <span style=\"color: #00af00; text-decoration-color: #00af00\">1</span>)                   │              <span style=\"color: #00af00; text-decoration-color: #00af00\">51</span> │\n",
              "└──────────────────────────────────────┴─────────────────────────────┴─────────────────┘\n",
              "</pre>\n"
            ]
          },
          "metadata": {}
        },
        {
          "output_type": "display_data",
          "data": {
            "text/plain": [
              "\u001b[1m Total params: \u001b[0m\u001b[38;5;34m31,851\u001b[0m (124.42 KB)\n"
            ],
            "text/html": [
              "<pre style=\"white-space:pre;overflow-x:auto;line-height:normal;font-family:Menlo,'DejaVu Sans Mono',consolas,'Courier New',monospace\"><span style=\"font-weight: bold\"> Total params: </span><span style=\"color: #00af00; text-decoration-color: #00af00\">31,851</span> (124.42 KB)\n",
              "</pre>\n"
            ]
          },
          "metadata": {}
        },
        {
          "output_type": "display_data",
          "data": {
            "text/plain": [
              "\u001b[1m Trainable params: \u001b[0m\u001b[38;5;34m31,851\u001b[0m (124.42 KB)\n"
            ],
            "text/html": [
              "<pre style=\"white-space:pre;overflow-x:auto;line-height:normal;font-family:Menlo,'DejaVu Sans Mono',consolas,'Courier New',monospace\"><span style=\"font-weight: bold\"> Trainable params: </span><span style=\"color: #00af00; text-decoration-color: #00af00\">31,851</span> (124.42 KB)\n",
              "</pre>\n"
            ]
          },
          "metadata": {}
        },
        {
          "output_type": "display_data",
          "data": {
            "text/plain": [
              "\u001b[1m Non-trainable params: \u001b[0m\u001b[38;5;34m0\u001b[0m (0.00 B)\n"
            ],
            "text/html": [
              "<pre style=\"white-space:pre;overflow-x:auto;line-height:normal;font-family:Menlo,'DejaVu Sans Mono',consolas,'Courier New',monospace\"><span style=\"font-weight: bold\"> Non-trainable params: </span><span style=\"color: #00af00; text-decoration-color: #00af00\">0</span> (0.00 B)\n",
              "</pre>\n"
            ]
          },
          "metadata": {}
        }
      ]
    },
    {
      "cell_type": "code",
      "source": [
        "# Modeli eğit\n",
        "history = model.fit(X_train, y_train, epochs=5, batch_size=32, validation_data=(X_test, y_test))\n",
        "\n",
        "# Eğitimi görselleştirelim\n",
        "import matplotlib.pyplot as plt\n",
        "\n",
        "plt.plot(history.history['accuracy'], label='Eğitim Doğruluğu')\n",
        "plt.plot(history.history['val_accuracy'], label='Test Doğruluğu')\n",
        "plt.title('Model Doğruluğu')\n",
        "plt.xlabel('Epoch')\n",
        "plt.ylabel('Doğruluk')\n",
        "plt.legend()\n",
        "plt.show()\n"
      ],
      "metadata": {
        "colab": {
          "base_uri": "https://localhost:8080/"
        },
        "id": "_NGiT7n-VjU7",
        "outputId": "7c464de6-2d97-49b4-a2d2-e340e193135a"
      },
      "execution_count": 58,
      "outputs": [
        {
          "output_type": "stream",
          "name": "stdout",
          "text": [
            "Epoch 1/5\n",
            "\u001b[1m 114/1347\u001b[0m \u001b[32m━\u001b[0m\u001b[37m━━━━━━━━━━━━━━━━━━━\u001b[0m \u001b[1m1:18\u001b[0m 63ms/step - accuracy: 0.4930 - loss: 0.6963"
          ]
        },
        {
          "output_type": "stream",
          "name": "stderr",
          "text": [
            "\n",
            "KeyboardInterrupt\n",
            "\n"
          ]
        }
      ]
    },
    {
      "cell_type": "code",
      "source": [
        "# Test doğruluğunu hesapla\n",
        "test_loss, test_accuracy = model.evaluate(X_test, y_test)\n",
        "print(f\"Test Kaybı: {test_loss}\")\n",
        "print(f\"Test Doğruluğu: {test_accuracy}\")\n"
      ],
      "metadata": {
        "colab": {
          "base_uri": "https://localhost:8080/"
        },
        "id": "c80AKGpkWIa9",
        "outputId": "5c118e31-debc-4feb-b5e7-bc039650052e"
      },
      "execution_count": 42,
      "outputs": [
        {
          "output_type": "stream",
          "name": "stdout",
          "text": [
            "\u001b[1m337/337\u001b[0m \u001b[32m━━━━━━━━━━━━━━━━━━━━\u001b[0m\u001b[37m\u001b[0m \u001b[1m6s\u001b[0m 16ms/step - accuracy: 0.5345 - loss: 0.6906\n",
            "Test Kaybı: 0.6903599500656128\n",
            "Test Doğruluğu: 0.5367121696472168\n"
          ]
        }
      ]
    },
    {
      "cell_type": "code",
      "source": [
        "# LSTM + CNN model\n",
        "from tensorflow.keras.models import Model\n",
        "from tensorflow.keras.layers import Input, Conv1D, LSTM, Dense, Flatten, Dropout, BatchNormalization\n",
        "\n",
        "# Giriş boyutları\n",
        "time_steps = 60  # Zaman adımları (örneğin 60 saat)\n",
        "features = 7    # Özellik sayısı (örneğin RSI, EMA vb.)\n",
        "\n",
        "# Giriş katmanı\n",
        "input_layer = Input(shape=(time_steps, features))\n",
        "\n",
        "# CNN Katmanı\n",
        "conv1 = Conv1D(filters=32, kernel_size=3, activation='relu', padding='same')(input_layer)\n",
        "conv1 = BatchNormalization()(conv1)\n",
        "conv1 = Dropout(0.2)(conv1)\n",
        "\n",
        "# LSTM Katmanı\n",
        "lstm_layer = LSTM(50, return_sequences=False)(conv1)\n",
        "\n",
        "# Yoğun Katman (Çıkış için)\n",
        "dense1 = Dense(64, activation='relu')(lstm_layer)\n",
        "dense1 = Dropout(0.3)(dense1)\n",
        "output_layer = Dense(1, activation='sigmoid')(dense1)  # Binary classification için sigmoid\n",
        "\n",
        "# Modeli birleştir\n",
        "model = Model(inputs=input_layer, outputs=output_layer)\n",
        "\n",
        "# Modeli derle\n",
        "model.compile(optimizer='adam', loss='binary_crossentropy', metrics=['accuracy'])\n",
        "\n",
        "# Model Özeti\n",
        "model.summary()\n"
      ],
      "metadata": {
        "colab": {
          "base_uri": "https://localhost:8080/",
          "height": 413
        },
        "id": "_nV5uRvlvYOY",
        "outputId": "d7be1766-49d9-4828-8540-b43e9535b951"
      },
      "execution_count": 43,
      "outputs": [
        {
          "output_type": "display_data",
          "data": {
            "text/plain": [
              "\u001b[1mModel: \"functional_20\"\u001b[0m\n"
            ],
            "text/html": [
              "<pre style=\"white-space:pre;overflow-x:auto;line-height:normal;font-family:Menlo,'DejaVu Sans Mono',consolas,'Courier New',monospace\"><span style=\"font-weight: bold\">Model: \"functional_20\"</span>\n",
              "</pre>\n"
            ]
          },
          "metadata": {}
        },
        {
          "output_type": "display_data",
          "data": {
            "text/plain": [
              "┏━━━━━━━━━━━━━━━━━━━━━━━━━━━━━━━━━━━━━━┳━━━━━━━━━━━━━━━━━━━━━━━━━━━━━┳━━━━━━━━━━━━━━━━━┓\n",
              "┃\u001b[1m \u001b[0m\u001b[1mLayer (type)                        \u001b[0m\u001b[1m \u001b[0m┃\u001b[1m \u001b[0m\u001b[1mOutput Shape               \u001b[0m\u001b[1m \u001b[0m┃\u001b[1m \u001b[0m\u001b[1m        Param #\u001b[0m\u001b[1m \u001b[0m┃\n",
              "┡━━━━━━━━━━━━━━━━━━━━━━━━━━━━━━━━━━━━━━╇━━━━━━━━━━━━━━━━━━━━━━━━━━━━━╇━━━━━━━━━━━━━━━━━┩\n",
              "│ input_layer_6 (\u001b[38;5;33mInputLayer\u001b[0m)           │ (\u001b[38;5;45mNone\u001b[0m, \u001b[38;5;34m60\u001b[0m, \u001b[38;5;34m7\u001b[0m)               │               \u001b[38;5;34m0\u001b[0m │\n",
              "├──────────────────────────────────────┼─────────────────────────────┼─────────────────┤\n",
              "│ conv1d_1 (\u001b[38;5;33mConv1D\u001b[0m)                    │ (\u001b[38;5;45mNone\u001b[0m, \u001b[38;5;34m60\u001b[0m, \u001b[38;5;34m32\u001b[0m)              │             \u001b[38;5;34m704\u001b[0m │\n",
              "├──────────────────────────────────────┼─────────────────────────────┼─────────────────┤\n",
              "│ batch_normalization_1                │ (\u001b[38;5;45mNone\u001b[0m, \u001b[38;5;34m60\u001b[0m, \u001b[38;5;34m32\u001b[0m)              │             \u001b[38;5;34m128\u001b[0m │\n",
              "│ (\u001b[38;5;33mBatchNormalization\u001b[0m)                 │                             │                 │\n",
              "├──────────────────────────────────────┼─────────────────────────────┼─────────────────┤\n",
              "│ dropout_9 (\u001b[38;5;33mDropout\u001b[0m)                  │ (\u001b[38;5;45mNone\u001b[0m, \u001b[38;5;34m60\u001b[0m, \u001b[38;5;34m32\u001b[0m)              │               \u001b[38;5;34m0\u001b[0m │\n",
              "├──────────────────────────────────────┼─────────────────────────────┼─────────────────┤\n",
              "│ lstm_8 (\u001b[38;5;33mLSTM\u001b[0m)                        │ (\u001b[38;5;45mNone\u001b[0m, \u001b[38;5;34m50\u001b[0m)                  │          \u001b[38;5;34m16,600\u001b[0m │\n",
              "├──────────────────────────────────────┼─────────────────────────────┼─────────────────┤\n",
              "│ dense_7 (\u001b[38;5;33mDense\u001b[0m)                      │ (\u001b[38;5;45mNone\u001b[0m, \u001b[38;5;34m64\u001b[0m)                  │           \u001b[38;5;34m3,264\u001b[0m │\n",
              "├──────────────────────────────────────┼─────────────────────────────┼─────────────────┤\n",
              "│ dropout_10 (\u001b[38;5;33mDropout\u001b[0m)                 │ (\u001b[38;5;45mNone\u001b[0m, \u001b[38;5;34m64\u001b[0m)                  │               \u001b[38;5;34m0\u001b[0m │\n",
              "├──────────────────────────────────────┼─────────────────────────────┼─────────────────┤\n",
              "│ dense_8 (\u001b[38;5;33mDense\u001b[0m)                      │ (\u001b[38;5;45mNone\u001b[0m, \u001b[38;5;34m1\u001b[0m)                   │              \u001b[38;5;34m65\u001b[0m │\n",
              "└──────────────────────────────────────┴─────────────────────────────┴─────────────────┘\n"
            ],
            "text/html": [
              "<pre style=\"white-space:pre;overflow-x:auto;line-height:normal;font-family:Menlo,'DejaVu Sans Mono',consolas,'Courier New',monospace\">┏━━━━━━━━━━━━━━━━━━━━━━━━━━━━━━━━━━━━━━┳━━━━━━━━━━━━━━━━━━━━━━━━━━━━━┳━━━━━━━━━━━━━━━━━┓\n",
              "┃<span style=\"font-weight: bold\"> Layer (type)                         </span>┃<span style=\"font-weight: bold\"> Output Shape                </span>┃<span style=\"font-weight: bold\">         Param # </span>┃\n",
              "┡━━━━━━━━━━━━━━━━━━━━━━━━━━━━━━━━━━━━━━╇━━━━━━━━━━━━━━━━━━━━━━━━━━━━━╇━━━━━━━━━━━━━━━━━┩\n",
              "│ input_layer_6 (<span style=\"color: #0087ff; text-decoration-color: #0087ff\">InputLayer</span>)           │ (<span style=\"color: #00d7ff; text-decoration-color: #00d7ff\">None</span>, <span style=\"color: #00af00; text-decoration-color: #00af00\">60</span>, <span style=\"color: #00af00; text-decoration-color: #00af00\">7</span>)               │               <span style=\"color: #00af00; text-decoration-color: #00af00\">0</span> │\n",
              "├──────────────────────────────────────┼─────────────────────────────┼─────────────────┤\n",
              "│ conv1d_1 (<span style=\"color: #0087ff; text-decoration-color: #0087ff\">Conv1D</span>)                    │ (<span style=\"color: #00d7ff; text-decoration-color: #00d7ff\">None</span>, <span style=\"color: #00af00; text-decoration-color: #00af00\">60</span>, <span style=\"color: #00af00; text-decoration-color: #00af00\">32</span>)              │             <span style=\"color: #00af00; text-decoration-color: #00af00\">704</span> │\n",
              "├──────────────────────────────────────┼─────────────────────────────┼─────────────────┤\n",
              "│ batch_normalization_1                │ (<span style=\"color: #00d7ff; text-decoration-color: #00d7ff\">None</span>, <span style=\"color: #00af00; text-decoration-color: #00af00\">60</span>, <span style=\"color: #00af00; text-decoration-color: #00af00\">32</span>)              │             <span style=\"color: #00af00; text-decoration-color: #00af00\">128</span> │\n",
              "│ (<span style=\"color: #0087ff; text-decoration-color: #0087ff\">BatchNormalization</span>)                 │                             │                 │\n",
              "├──────────────────────────────────────┼─────────────────────────────┼─────────────────┤\n",
              "│ dropout_9 (<span style=\"color: #0087ff; text-decoration-color: #0087ff\">Dropout</span>)                  │ (<span style=\"color: #00d7ff; text-decoration-color: #00d7ff\">None</span>, <span style=\"color: #00af00; text-decoration-color: #00af00\">60</span>, <span style=\"color: #00af00; text-decoration-color: #00af00\">32</span>)              │               <span style=\"color: #00af00; text-decoration-color: #00af00\">0</span> │\n",
              "├──────────────────────────────────────┼─────────────────────────────┼─────────────────┤\n",
              "│ lstm_8 (<span style=\"color: #0087ff; text-decoration-color: #0087ff\">LSTM</span>)                        │ (<span style=\"color: #00d7ff; text-decoration-color: #00d7ff\">None</span>, <span style=\"color: #00af00; text-decoration-color: #00af00\">50</span>)                  │          <span style=\"color: #00af00; text-decoration-color: #00af00\">16,600</span> │\n",
              "├──────────────────────────────────────┼─────────────────────────────┼─────────────────┤\n",
              "│ dense_7 (<span style=\"color: #0087ff; text-decoration-color: #0087ff\">Dense</span>)                      │ (<span style=\"color: #00d7ff; text-decoration-color: #00d7ff\">None</span>, <span style=\"color: #00af00; text-decoration-color: #00af00\">64</span>)                  │           <span style=\"color: #00af00; text-decoration-color: #00af00\">3,264</span> │\n",
              "├──────────────────────────────────────┼─────────────────────────────┼─────────────────┤\n",
              "│ dropout_10 (<span style=\"color: #0087ff; text-decoration-color: #0087ff\">Dropout</span>)                 │ (<span style=\"color: #00d7ff; text-decoration-color: #00d7ff\">None</span>, <span style=\"color: #00af00; text-decoration-color: #00af00\">64</span>)                  │               <span style=\"color: #00af00; text-decoration-color: #00af00\">0</span> │\n",
              "├──────────────────────────────────────┼─────────────────────────────┼─────────────────┤\n",
              "│ dense_8 (<span style=\"color: #0087ff; text-decoration-color: #0087ff\">Dense</span>)                      │ (<span style=\"color: #00d7ff; text-decoration-color: #00d7ff\">None</span>, <span style=\"color: #00af00; text-decoration-color: #00af00\">1</span>)                   │              <span style=\"color: #00af00; text-decoration-color: #00af00\">65</span> │\n",
              "└──────────────────────────────────────┴─────────────────────────────┴─────────────────┘\n",
              "</pre>\n"
            ]
          },
          "metadata": {}
        },
        {
          "output_type": "display_data",
          "data": {
            "text/plain": [
              "\u001b[1m Total params: \u001b[0m\u001b[38;5;34m20,761\u001b[0m (81.10 KB)\n"
            ],
            "text/html": [
              "<pre style=\"white-space:pre;overflow-x:auto;line-height:normal;font-family:Menlo,'DejaVu Sans Mono',consolas,'Courier New',monospace\"><span style=\"font-weight: bold\"> Total params: </span><span style=\"color: #00af00; text-decoration-color: #00af00\">20,761</span> (81.10 KB)\n",
              "</pre>\n"
            ]
          },
          "metadata": {}
        },
        {
          "output_type": "display_data",
          "data": {
            "text/plain": [
              "\u001b[1m Trainable params: \u001b[0m\u001b[38;5;34m20,697\u001b[0m (80.85 KB)\n"
            ],
            "text/html": [
              "<pre style=\"white-space:pre;overflow-x:auto;line-height:normal;font-family:Menlo,'DejaVu Sans Mono',consolas,'Courier New',monospace\"><span style=\"font-weight: bold\"> Trainable params: </span><span style=\"color: #00af00; text-decoration-color: #00af00\">20,697</span> (80.85 KB)\n",
              "</pre>\n"
            ]
          },
          "metadata": {}
        },
        {
          "output_type": "display_data",
          "data": {
            "text/plain": [
              "\u001b[1m Non-trainable params: \u001b[0m\u001b[38;5;34m64\u001b[0m (256.00 B)\n"
            ],
            "text/html": [
              "<pre style=\"white-space:pre;overflow-x:auto;line-height:normal;font-family:Menlo,'DejaVu Sans Mono',consolas,'Courier New',monospace\"><span style=\"font-weight: bold\"> Non-trainable params: </span><span style=\"color: #00af00; text-decoration-color: #00af00\">64</span> (256.00 B)\n",
              "</pre>\n"
            ]
          },
          "metadata": {}
        }
      ]
    },
    {
      "cell_type": "code",
      "source": [
        "# Modeli eğit\n",
        "history = model.fit(\n",
        "    X_train, y_train,\n",
        "    epochs=5,\n",
        "    batch_size=32,\n",
        "    validation_data=(X_test, y_test),\n",
        "    verbose=1\n",
        ")\n"
      ],
      "metadata": {
        "colab": {
          "base_uri": "https://localhost:8080/"
        },
        "id": "cyb6RfJ4xK2h",
        "outputId": "767f9fda-947b-491c-ef17-274b9c139a35"
      },
      "execution_count": 44,
      "outputs": [
        {
          "output_type": "stream",
          "name": "stdout",
          "text": [
            "Epoch 1/5\n",
            "\u001b[1m1347/1347\u001b[0m \u001b[32m━━━━━━━━━━━━━━━━━━━━\u001b[0m\u001b[37m\u001b[0m \u001b[1m57s\u001b[0m 40ms/step - accuracy: 0.5072 - loss: 0.6948 - val_accuracy: 0.5158 - val_loss: 0.6921\n",
            "Epoch 2/5\n",
            "\u001b[1m1347/1347\u001b[0m \u001b[32m━━━━━━━━━━━━━━━━━━━━\u001b[0m\u001b[37m\u001b[0m \u001b[1m52s\u001b[0m 38ms/step - accuracy: 0.5261 - loss: 0.6919 - val_accuracy: 0.5191 - val_loss: 0.6915\n",
            "Epoch 3/5\n",
            "\u001b[1m1347/1347\u001b[0m \u001b[32m━━━━━━━━━━━━━━━━━━━━\u001b[0m\u001b[37m\u001b[0m \u001b[1m82s\u001b[0m 38ms/step - accuracy: 0.5211 - loss: 0.6921 - val_accuracy: 0.5298 - val_loss: 0.6910\n",
            "Epoch 4/5\n",
            "\u001b[1m1347/1347\u001b[0m \u001b[32m━━━━━━━━━━━━━━━━━━━━\u001b[0m\u001b[37m\u001b[0m \u001b[1m81s\u001b[0m 38ms/step - accuracy: 0.5237 - loss: 0.6923 - val_accuracy: 0.5367 - val_loss: 0.6908\n",
            "Epoch 5/5\n",
            "\u001b[1m1347/1347\u001b[0m \u001b[32m━━━━━━━━━━━━━━━━━━━━\u001b[0m\u001b[37m\u001b[0m \u001b[1m82s\u001b[0m 38ms/step - accuracy: 0.5246 - loss: 0.6916 - val_accuracy: 0.5364 - val_loss: 0.6904\n"
          ]
        }
      ]
    },
    {
      "cell_type": "code",
      "source": [
        "# Doğrulama verisi performansı\n",
        "val_loss, val_accuracy = model.evaluate(X_train, y_train)\n",
        "print(f\"Doğrulama Seti - Kayıp: {val_loss}, Doğruluk: {val_accuracy}\")\n",
        "\n",
        "# Test verisi performansı\n",
        "test_loss, test_accuracy = model.evaluate(X_test, y_test)\n",
        "print(f\"Test Seti - Kayıp: {test_loss}, Doğruluk: {test_accuracy}\")\n"
      ],
      "metadata": {
        "colab": {
          "base_uri": "https://localhost:8080/"
        },
        "id": "MEdVAKbs0Uvx",
        "outputId": "11db9bb6-5fa5-4aeb-96df-9e86f94796a0"
      },
      "execution_count": 45,
      "outputs": [
        {
          "output_type": "stream",
          "name": "stdout",
          "text": [
            "\u001b[1m1347/1347\u001b[0m \u001b[32m━━━━━━━━━━━━━━━━━━━━\u001b[0m\u001b[37m\u001b[0m \u001b[1m15s\u001b[0m 11ms/step - accuracy: 0.5264 - loss: 0.6911\n",
            "Doğrulama Seti - Kayıp: 0.6911565661430359, Doğruluk: 0.5282677412033081\n",
            "\u001b[1m337/337\u001b[0m \u001b[32m━━━━━━━━━━━━━━━━━━━━\u001b[0m\u001b[37m\u001b[0m \u001b[1m5s\u001b[0m 14ms/step - accuracy: 0.5351 - loss: 0.6908\n",
            "Test Seti - Kayıp: 0.6904407739639282, Doğruluk: 0.5364336967468262\n"
          ]
        }
      ]
    },
    {
      "cell_type": "code",
      "source": [
        "import matplotlib.pyplot as plt\n",
        "\n",
        "# Doğruluk grafiği\n",
        "plt.plot(history.history['accuracy'], label='Eğitim Doğruluğu')\n",
        "plt.plot(history.history['val_accuracy'], label='Doğrulama Doğruluğu')\n",
        "plt.legend()\n",
        "plt.title('Model Doğruluk Grafiği')\n",
        "plt.show()\n",
        "\n",
        "# Kayıp grafiği\n",
        "plt.plot(history.history['loss'], label='Eğitim Kaybı')\n",
        "plt.plot(history.history['val_loss'], label='Doğrulama Kaybı')\n",
        "plt.legend()\n",
        "plt.title('Model Kayıp Grafiği')\n",
        "plt.show()\n"
      ],
      "metadata": {
        "id": "C_PdkDw_03sq",
        "outputId": "9f01473c-b95a-467e-e0fb-6a2f1d773784",
        "colab": {
          "base_uri": "https://localhost:8080/",
          "height": 887
        }
      },
      "execution_count": 46,
      "outputs": [
        {
          "output_type": "display_data",
          "data": {
            "text/plain": [
              "<Figure size 640x480 with 1 Axes>"
            ],
            "image/png": "[encoded data removed]"
          },
          "metadata": {}
        },
        {
          "output_type": "display_data",
          "data": {
            "text/plain": [
              "<Figure size 640x480 with 1 Axes>"
            ],
            "image/png": "[encoded data removed]"
          },
          "metadata": {}
        }
      ]
    }
  ],
  "metadata": {
    "colab": {
      "provenance": [],
      "authorship_tag": "ABX9TyOaNtzn9LDL/QRLtJYmO3kQ",
      "include_colab_link": true
    },
    "kernelspec": {
      "display_name": "Python 3",
      "name": "python3"
    },
    "language_info": {
      "name": "python"
    }
  },
  "nbformat": 4,
  "nbformat_minor": 0
}